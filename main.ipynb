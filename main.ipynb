{
 "cells": [
  {
   "cell_type": "code",
   "execution_count": 4,
   "id": "8f9a0178",
   "metadata": {},
   "outputs": [
    {
     "name": "stdout",
     "output_type": "stream",
     "text": [
      "The following commands were written to file `main.py`:\n",
      "import warnings\n",
      "import logging\n",
      "from drugs_link_graph.data_pipeline.links_graph_pipeline import LinksGraphPipeline\n",
      "from drugs_link_graph.config.config import configure_logging\n",
      "import drugs_link_graph.tools.constants as cst\n",
      "import time\n",
      "\n",
      "warnings.filterwarnings(\"ignore\")\n",
      "logger = logging.getLogger(__name__)\n",
      "\n",
      "if __name__ == \"__main__\":\n",
      "    program_starting_time = time.time()\n",
      "    logger = logging.getLogger()\n",
      "    configure_logging(cst.CONF_PATH, cst.LOGGING_CONF_FILE)\n",
      "    logger.info(\"The process starts at {}\".format(time.strftime(\" %Hh%Mmin, %d-%m-%Y\", time.gmtime())))\n",
      "    starting_time = time.time()\n",
      "    LinksGraphPipeline(cst.CONF_PATH, cst.CONF_NAME).compute()\n",
      "    logger.info(\"The process ends at {} \\n\".format(time.strftime(\" %Hh%Mmin, %d-%m-%Y\", time.gmtime())))\n"
     ]
    }
   ],
   "source": [
    "%save main.py _ih[3]"
   ]
  },
  {
   "cell_type": "code",
   "execution_count": 1,
   "id": "1b879020",
   "metadata": {},
   "outputs": [
    {
     "name": "stdout",
     "output_type": "stream",
     "text": [
      "11-12-2022 20:31:16 - INFO - The process starts at  19h31min, 11-12-2022\n",
      "11-12-2022 20:31:16 - INFO - =========> Getting input data...\n",
      "11-12-2022 20:31:16 - INFO - configuration file ('conf/conf.json') successfully loaded\n",
      "Error on_file data/pubmed.json: Expecting value: line 32 column 1 (char 1341)\n",
      "11-12-2022 20:31:16 - INFO - =========> preprocessing & cleaning data...\n",
      "11-12-2022 20:31:16 - INFO - =========> links graph modeler...\n",
      "11-12-2022 20:31:16 - INFO - =========> save result ...\n",
      "11-12-2022 20:31:16 - INFO - The process ends at  19h31min, 11-12-2022 \n",
      "\n"
     ]
    }
   ],
   "source": [
    "import warnings\n",
    "import logging\n",
    "from drugs_link_graph.data_pipeline.links_graph_pipeline import LinksGraphPipeline\n",
    "from drugs_link_graph.config.config import configure_logging\n",
    "import drugs_link_graph.tools.constants as cst\n",
    "import time\n",
    "\n",
    "warnings.filterwarnings(\"ignore\")\n",
    "logger = logging.getLogger(__name__)\n",
    "\n",
    "if __name__ == \"__main__\":\n",
    "    program_starting_time = time.time()\n",
    "    logger = logging.getLogger()\n",
    "    configure_logging(cst.CONF_PATH, cst.LOGGING_CONF_FILE)\n",
    "    logger.info(\"The process starts at {}\".format(time.strftime(\" %Hh%Mmin, %d-%m-%Y\", time.gmtime())))\n",
    "    starting_time = time.time()\n",
    "    LinksGraphPipeline(cst.CONF_PATH, cst.CONF_NAME).compute()\n",
    "    logger.info(\"The process ends at {} \\n\".format(time.strftime(\" %Hh%Mmin, %d-%m-%Y\", time.gmtime())))\n",
    "\n"
   ]
  },
  {
   "cell_type": "code",
   "execution_count": 8,
   "id": "eb023f86",
   "metadata": {},
   "outputs": [],
   "source": []
  },
  {
   "cell_type": "code",
   "execution_count": null,
   "id": "89f3a6fb",
   "metadata": {},
   "outputs": [],
   "source": []
  }
 ],
 "metadata": {
  "kernelspec": {
   "display_name": "Python 3 (ipykernel)",
   "language": "python",
   "name": "python3"
  },
  "language_info": {
   "codemirror_mode": {
    "name": "ipython",
    "version": 3
   },
   "file_extension": ".py",
   "mimetype": "text/x-python",
   "name": "python",
   "nbconvert_exporter": "python",
   "pygments_lexer": "ipython3",
   "version": "3.9.13"
  }
 },
 "nbformat": 4,
 "nbformat_minor": 5
}

{
 "cells": [
  {
   "cell_type": "code",
   "execution_count": 3,
   "id": "56e9be0c",
   "metadata": {},
   "outputs": [],
   "source": [
    "#%save ../../drugs_link_graph/data_modeling/links_graph_modeler.py _ih[1]"
   ]
  },
  {
   "cell_type": "code",
   "execution_count": 1,
   "id": "d7b16aa5",
   "metadata": {},
   "outputs": [],
   "source": [
    "\"\"\"\n",
    "\n",
    "Usage:\n",
    "======\n",
    "    python compute_drug_links drugs alldatalinks \n",
    "    \n",
    "\"\"\"\n",
    "\n",
    "__authors__ = (\"Abla\")\n",
    "__contact__ = (\"abla.takkag10@gmail.com\")\n",
    "__copyright__ = \"MIT\"\n",
    "__date__ = \"2022-12-05\"\n",
    "__version__= \"1.0.0\"\n",
    "\n",
    "import os\n",
    "import pandas as pd\n",
    "import numpy as np\n",
    "\n",
    "\n",
    "def compute_drug_links(drugs, datalinks): \n",
    "    \"\"\"Cette fonction permet de calculer les liens entre les differents medicaments et leurs mentions dans les PubMed, \n",
    "    les publications scientifiques et les journaux'.\n",
    "        \n",
    "        Parameters\n",
    "        ----------\n",
    "        \n",
    "        drugs: pandas.DataFrame\n",
    "               DataFrame contenant les medicaments avec leurs ids.\n",
    "        alldatalinks: pandas.DataFrame\n",
    "                      DataFrame contenant les toutes les donnees des pubmed, publications et journaux.\n",
    "        Returns\n",
    "        --------\n",
    "        links_list : list de dico\n",
    "                     liste of dictionnaires contenant les drugs et leurs liens comme le schéma suivant :\n",
    "                    [{\"drug_id\": drug_id_value, \n",
    "                     \"links\":[{\n",
    "                                 \"link_type\": link_type_1, \"journal_name\" : journal_name_1, \n",
    "                                 \"date_mention\": date_mention_1},  ....],\n",
    "                                \n",
    "                    }]\n",
    "        \"\"\"\n",
    "    # Definir une liste vide\n",
    "    links_list = []\n",
    "    # Boucler sur index de dataframe drugs\n",
    "    for ind in drugs.index :\n",
    "        # Definir un dico links vide \n",
    "        links_dico = {}\n",
    "        # Recuperer l'id et le nom de drug a chaque boucle\n",
    "        drug_id = drugs['atccode'][ind]\n",
    "        drug_name = drugs['drug'][ind].lower()\n",
    "        # Mettre a jour le dico des links avec l'id de drug et les links (vide)\n",
    "        links_dico.update({\"drug_id\": drug_id,\n",
    "                         \"links\": [] })\n",
    "        # Boucler sur l'index et la ligne de dataframe des liens\n",
    "        for i, row in datalinks.iterrows():\n",
    "            # Si la colonne titre contien le nom de drug \n",
    "            if (drug_name in row['title']) : \n",
    "                # On append la cle de dictionnaire links \n",
    "                value_to_append = {\"link_type\": row['type'], \"journal_name\": row[\"journal\"], \n",
    "                                   \"date_mention\":row[\"date\"]}\n",
    "                links_dico[\"links\"].append(value_to_append)\n",
    "        links_list.append(links_dico)               \n",
    "    return links_list         \n",
    "\n",
    "            "
   ]
  },
  {
   "cell_type": "code",
   "execution_count": null,
   "id": "147567bc",
   "metadata": {},
   "outputs": [],
   "source": []
  }
 ],
 "metadata": {
  "kernelspec": {
   "display_name": "Python 3 (ipykernel)",
   "language": "python",
   "name": "python3"
  },
  "language_info": {
   "codemirror_mode": {
    "name": "ipython",
    "version": 3
   },
   "file_extension": ".py",
   "mimetype": "text/x-python",
   "name": "python",
   "nbconvert_exporter": "python",
   "pygments_lexer": "ipython3",
   "version": "3.9.13"
  }
 },
 "nbformat": 4,
 "nbformat_minor": 5
}

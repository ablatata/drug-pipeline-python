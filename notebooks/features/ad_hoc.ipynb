{
 "cells": [
  {
   "cell_type": "code",
   "execution_count": 9,
   "id": "f173fd1e",
   "metadata": {},
   "outputs": [],
   "source": [
    "#%save ../../drugs_link_graph/features/ad_hoc.py _ih[7]"
   ]
  },
  {
   "cell_type": "code",
   "execution_count": 7,
   "id": "03f064f4",
   "metadata": {},
   "outputs": [],
   "source": [
    "\"\"\"\n",
    "\n",
    "Usage:\n",
    "======\n",
    "    python count_max_journal  \n",
    "    \n",
    "\"\"\"\n",
    "\n",
    "__authors__ = (\"Abla\")\n",
    "__contact__ = (\"abla.takkag10@gmail.com\")\n",
    "__copyright__ = \"MIT\"\n",
    "__date__ = \"2022-12-05\"\n",
    "__version__= \"1.0.0\"\n",
    "\n",
    "import os\n",
    "R = os.path.abspath('../..')\n",
    "if R not in os.sys.path:\n",
    "    S = os.sys.path.insert(0,R)\n",
    "    \n",
    "import logging, warnings    \n",
    "import pandas as pd\n",
    "import numpy as np\n",
    "from datetime import datetime\n",
    "from drugs_link_graph.config.config import load_conf_file, configure_logging\n",
    "from drugs_link_graph.connectors.connector_local import ConnectorLocal\n",
    "from drugs_link_graph.loaders.loader_local import LoaderLocal\n",
    "import drugs_link_graph.tools.constants as cst\n",
    "\n",
    "warnings.filterwarnings(\"ignore\")\n",
    "logger = logging.getLogger(__name__)\n",
    "\n",
    "def journal_max_links(conf_path, conf_name): \n",
    "    \"\"\"Cette fonction permet de calculer le nom du journal (ou les noms des journaux) \n",
    "    qui mentionne le plus de medicaments différents.\n",
    "        \n",
    "        Parameters\n",
    "        ----------\n",
    "        \n",
    "        conf_path : str\n",
    "                    chemin d'accès vers le fichier de configuration\n",
    "               \n",
    "        Returns\n",
    "        --------\n",
    "        dico_max_count : dict\n",
    "                         dictionnaire avec nom du journal qui mentionne le plus de medicaments différents \n",
    "                    \n",
    "        \"\"\"\n",
    "\n",
    "    conf = load_conf_file(conf_path, conf_name)\n",
    "    connector = ConnectorLocal(conf['links_path'])\n",
    "    \n",
    "    logger.info(\"=========> Getting links data...\")\n",
    "    links = connector.read_json_file(conf[\"links_name\"])\n",
    "    df=pd.DataFrame(links)\n",
    "    \n",
    "    logger.info(\"=========> Count max Drugs in journal...\")\n",
    "    # Definir la colonne drug_id comme index, exploser la colonne links en plusieurs lignes\n",
    "    # Puis réinitialisez l'index après.\n",
    "    data_exploded_rows = df.set_index('drug_id').apply(lambda x: x.apply(pd.Series).stack()).reset_index().drop('level_1', 1)\n",
    "    \n",
    "    # Exploser la colonne links en 3 colonnes : link_type, journal_name & date_mention\n",
    "    data_exploded_col = data_exploded_rows.join(pd.json_normalize(data_exploded_rows.pop(\"links\")))\n",
    "    \n",
    "    # Calculer le nombre de medicaments differents mentionnes dans chaque article\n",
    "    df_drugs_count= data_exploded_col.groupby(\"journal_name\", as_index=False) ['drug_id'].nunique()\n",
    "    \n",
    "    # Calculer l'article ou les articles qui ont le plus de médicaments différents \n",
    "    result_max_count= df_drugs_count[df_drugs_count['drug_id'] == df_drugs_count['drug_id'].max()]\n",
    "    \n",
    "    # Ajouter la date de jour de count et convertir le resultat en dictionnaire\n",
    "    current_date_count = datetime.now().strftime('%Y-%m-%d')\n",
    "    result_max_count[\"date_of_count\"]= current_date_count\n",
    "    dico_max_count= result_max_count.to_dict('records')\n",
    "    \n",
    "    logger.info(\"=========> save result ...\")\n",
    "    # Enregitrer les résultat\n",
    "    loader = LoaderLocal(conf['features_path'])\n",
    "    loader.write_json_file(dico_max_count, conf['features_name'])\n",
    "\n",
    "    return dico_max_count        \n"
   ]
  },
  {
   "cell_type": "code",
   "execution_count": null,
   "id": "47077f75",
   "metadata": {},
   "outputs": [],
   "source": []
  },
  {
   "cell_type": "code",
   "execution_count": 128,
   "id": "2bc925e4",
   "metadata": {},
   "outputs": [
    {
     "name": "stdout",
     "output_type": "stream",
     "text": [
      "07-12-2022 16:05:25 - INFO - The process starts at  15h05min, 07-12-2022\n",
      "07-12-2022 16:05:25 - INFO - configuration file ('conf/conf.json') successfully loaded\n",
      "journal of emergency nursing\n",
      "07-12-2022 16:05:25 - INFO - The process ends at  15h05min, 07-12-2022 \n",
      "\n"
     ]
    }
   ],
   "source": []
  },
  {
   "cell_type": "code",
   "execution_count": null,
   "id": "d6414603",
   "metadata": {},
   "outputs": [],
   "source": []
  }
 ],
 "metadata": {
  "kernelspec": {
   "display_name": "Python 3 (ipykernel)",
   "language": "python",
   "name": "python3"
  },
  "language_info": {
   "codemirror_mode": {
    "name": "ipython",
    "version": 3
   },
   "file_extension": ".py",
   "mimetype": "text/x-python",
   "name": "python",
   "nbconvert_exporter": "python",
   "pygments_lexer": "ipython3",
   "version": "3.9.13"
  }
 },
 "nbformat": 4,
 "nbformat_minor": 5
}

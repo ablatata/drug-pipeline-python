{
 "cells": [
  {
   "cell_type": "code",
   "execution_count": 2,
   "id": "26a87d2d",
   "metadata": {},
   "outputs": [
    {
     "name": "stdout",
     "output_type": "stream",
     "text": [
      "File `../../drugs_link_graph/tools/constants.py` exists. Overwrite (y/[N])?  y\n",
      "The following commands were written to file `../../drugs_link_graph/tools/constants.py`:\n",
      "CONF_PATH = \"conf/\"\n",
      "CONF_NAME = \"conf.json\"\n",
      "LOGGING_CONF_FILE = 'logging-console.json'\n"
     ]
    }
   ],
   "source": [
    "%save ../../drugs_link_graph/tools/constants.py _ih[1]"
   ]
  },
  {
   "cell_type": "code",
   "execution_count": 1,
   "id": "9e3ac065",
   "metadata": {},
   "outputs": [],
   "source": [
    "CONF_PATH = \"conf/\"\n",
    "CONF_NAME = \"conf.json\"\n",
    "LOGGING_CONF_FILE = 'logging-console.json'"
   ]
  }
 ],
 "metadata": {
  "kernelspec": {
   "display_name": "Python 3 (ipykernel)",
   "language": "python",
   "name": "python3"
  },
  "language_info": {
   "codemirror_mode": {
    "name": "ipython",
    "version": 3
   },
   "file_extension": ".py",
   "mimetype": "text/x-python",
   "name": "python",
   "nbconvert_exporter": "python",
   "pygments_lexer": "ipython3",
   "version": "3.9.13"
  }
 },
 "nbformat": 4,
 "nbformat_minor": 5
}

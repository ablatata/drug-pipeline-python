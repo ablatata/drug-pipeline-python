{
 "cells": [
  {
   "cell_type": "code",
   "execution_count": 3,
   "id": "063f5255",
   "metadata": {},
   "outputs": [
    {
     "name": "stdout",
     "output_type": "stream",
     "text": [
      "File `main_features.py` exists. Overwrite (y/[N])?  y\n",
      "The following commands were written to file `main_features.py`:\n",
      "import os\n",
      "import warnings\n",
      "import logging\n",
      "from drugs_link_graph.data_pipeline.links_graph_pipeline import LinksGraphPipeline\n",
      "from drugs_link_graph.config.config import configure_logging\n",
      "import drugs_link_graph.tools.constants as cst\n",
      "from drugs_link_graph.features.ad_hoc import journal_max_links\n",
      "import time\n",
      "\n",
      "warnings.filterwarnings(\"ignore\")\n",
      "logger = logging.getLogger(__name__)\n",
      "\n",
      "if __name__ == \"__main__\":\n",
      "    program_starting_time = time.time()\n",
      "    logger = logging.getLogger()\n",
      "    configure_logging(cst.CONF_PATH, cst.LOGGING_CONF_FILE)\n",
      "    logger.info(\"The process starts at {}\".format(time.strftime(\" %Hh%Mmin, %d-%m-%Y\", time.gmtime())))\n",
      "    starting_time = time.time()\n",
      "    journal_max_links(cst.CONF_PATH, cst.CONF_NAME)\n",
      "    logger.info(\"The process ends at {} \\n\".format(time.strftime(\" %Hh%Mmin, %d-%m-%Y\", time.gmtime())))\n"
     ]
    }
   ],
   "source": [
    "%save main_features.py _ih[2]"
   ]
  },
  {
   "cell_type": "code",
   "execution_count": 1,
   "id": "fb858ff3",
   "metadata": {},
   "outputs": [
    {
     "name": "stdout",
     "output_type": "stream",
     "text": [
      "10-12-2022 20:09:22 - INFO - The process starts at  19h09min, 10-12-2022\n",
      "10-12-2022 20:09:23 - INFO - configuration file ('conf/conf.json') successfully loaded\n",
      "10-12-2022 20:09:23 - INFO - =========> Getting links data...\n",
      "10-12-2022 20:09:23 - INFO - =========> Count max Drugs in journal...\n",
      "10-12-2022 20:09:23 - INFO - =========> save result ...\n",
      "10-12-2022 20:09:23 - INFO - The process ends at  19h09min, 10-12-2022 \n",
      "\n"
     ]
    }
   ],
   "source": [
    "import os\n",
    "import warnings\n",
    "import logging\n",
    "from drugs_link_graph.data_pipeline.links_graph_pipeline import LinksGraphPipeline\n",
    "from drugs_link_graph.config.config import configure_logging\n",
    "import drugs_link_graph.tools.constants as cst\n",
    "from drugs_link_graph.features.ad_hoc import journal_max_links\n",
    "import time\n",
    "\n",
    "warnings.filterwarnings(\"ignore\")\n",
    "logger = logging.getLogger(__name__)\n",
    "\n",
    "if __name__ == \"__main__\":\n",
    "    program_starting_time = time.time()\n",
    "    logger = logging.getLogger()\n",
    "    configure_logging(cst.CONF_PATH, cst.LOGGING_CONF_FILE)\n",
    "    logger.info(\"The process starts at {}\".format(time.strftime(\" %Hh%Mmin, %d-%m-%Y\", time.gmtime())))\n",
    "    starting_time = time.time()\n",
    "    journal_max_links(cst.CONF_PATH, cst.CONF_NAME)\n",
    "    logger.info(\"The process ends at {} \\n\".format(time.strftime(\" %Hh%Mmin, %d-%m-%Y\", time.gmtime())))"
   ]
  },
  {
   "cell_type": "code",
   "execution_count": null,
   "id": "edc2fef5",
   "metadata": {},
   "outputs": [],
   "source": []
  }
 ],
 "metadata": {
  "kernelspec": {
   "display_name": "Python 3 (ipykernel)",
   "language": "python",
   "name": "python3"
  },
  "language_info": {
   "codemirror_mode": {
    "name": "ipython",
    "version": 3
   },
   "file_extension": ".py",
   "mimetype": "text/x-python",
   "name": "python",
   "nbconvert_exporter": "python",
   "pygments_lexer": "ipython3",
   "version": "3.9.13"
  }
 },
 "nbformat": 4,
 "nbformat_minor": 5
}
